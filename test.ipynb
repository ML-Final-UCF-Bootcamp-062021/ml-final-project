{
  "nbformat": 4,
  "nbformat_minor": 0,
  "metadata": {
    "orig_nbformat": 2,
    "colab": {
      "name": "test.ipynb",
      "provenance": [],
      "collapsed_sections": [],
      "include_colab_link": true
    },
    "language_info": {
      "name": "python"
    },
    "kernelspec": {
      "name": "python3",
      "display_name": "Python 3"
    }
  },
  "cells": [
    {
      "cell_type": "markdown",
      "metadata": {
        "id": "view-in-github",
        "colab_type": "text"
      },
      "source": [
        "<a href=\"https://colab.research.google.com/github/ML-Final-UCF-Bootcamp-062021/ml-final-project/blob/main/test.ipynb\" target=\"_parent\"><img src=\"https://colab.research.google.com/assets/colab-badge.svg\" alt=\"Open In Colab\"/></a>"
      ]
    },
    {
      "cell_type": "code",
      "metadata": {
        "colab": {
          "base_uri": "https://localhost:8080/"
        },
        "id": "nPBY0p6v32SY",
        "outputId": "72bdc74d-4f54-453f-9e4f-6add2be2e023"
      },
      "source": [
        "from google.colab import drive \n",
        "drive.mount('/content/gdrive')"
      ],
      "execution_count": 18,
      "outputs": [
        {
          "output_type": "stream",
          "text": [
            "Mounted at /content/gdrive\n"
          ],
          "name": "stdout"
        }
      ]
    },
    {
      "cell_type": "code",
      "metadata": {
        "id": "9PhsWuLM32Se"
      },
      "source": [
        "%matplotlib inline\n",
        "import matplotlib.pyplot as plt\n",
        "import numpy as np\n",
        "import sklearn\n",
        "import sklearn.datasets\n",
        "from sklearn.ensemble import RandomForestClassifier\n",
        "from sklearn.preprocessing import StandardScaler\n",
        "from sklearn.model_selection import train_test_split\n",
        "from sklearn import tree\n",
        "import pandas as pd"
      ],
      "execution_count": 1,
      "outputs": []
    },
    {
      "cell_type": "code",
      "metadata": {
        "id": "TpqW9Bw979Vm"
      },
      "source": [
        "\n",
        "df = pd.read_csv(\"/content/gdrive/MyDrive/usda_data.csv\", index_col=None)"
      ],
      "execution_count": 19,
      "outputs": []
    },
    {
      "cell_type": "code",
      "metadata": {
        "colab": {
          "base_uri": "https://localhost:8080/",
          "height": 224
        },
        "id": "qZC-9HfS8NVg",
        "outputId": "00d5bec2-47c4-4f8a-b8ab-578e7e07d787"
      },
      "source": [
        "df.head()"
      ],
      "execution_count": 20,
      "outputs": [
        {
          "output_type": "execute_result",
          "data": {
            "text/html": [
              "<div>\n",
              "<style scoped>\n",
              "    .dataframe tbody tr th:only-of-type {\n",
              "        vertical-align: middle;\n",
              "    }\n",
              "\n",
              "    .dataframe tbody tr th {\n",
              "        vertical-align: top;\n",
              "    }\n",
              "\n",
              "    .dataframe thead th {\n",
              "        text-align: right;\n",
              "    }\n",
              "</style>\n",
              "<table border=\"1\" class=\"dataframe\">\n",
              "  <thead>\n",
              "    <tr style=\"text-align: right;\">\n",
              "      <th></th>\n",
              "      <th>CensusTract</th>\n",
              "      <th>Urban</th>\n",
              "      <th>Pop2010</th>\n",
              "      <th>OHU2010</th>\n",
              "      <th>LILATracts_1And10</th>\n",
              "      <th>LILATracts_Vehicle</th>\n",
              "      <th>HUNVFlag</th>\n",
              "      <th>LowIncomeTracts</th>\n",
              "      <th>PovertyRate</th>\n",
              "      <th>MedianFamilyIncome</th>\n",
              "      <th>LA1and10</th>\n",
              "      <th>LATracts1</th>\n",
              "      <th>lapop1</th>\n",
              "      <th>lapop1share</th>\n",
              "      <th>lalowi1</th>\n",
              "      <th>lalowi1share</th>\n",
              "      <th>lawhite1</th>\n",
              "      <th>lawhite1share</th>\n",
              "      <th>lablack1</th>\n",
              "      <th>lablack1share</th>\n",
              "      <th>laasian1</th>\n",
              "      <th>laasian1share</th>\n",
              "      <th>lanhopi1</th>\n",
              "      <th>lanhopi1share</th>\n",
              "      <th>laaian1</th>\n",
              "      <th>laaian1share</th>\n",
              "      <th>laomultir1</th>\n",
              "      <th>laomultir1share</th>\n",
              "      <th>lahisp1</th>\n",
              "      <th>lahisp1share</th>\n",
              "      <th>lahunv1</th>\n",
              "      <th>lahunv1share</th>\n",
              "      <th>lasnap1</th>\n",
              "      <th>lasnap1share</th>\n",
              "      <th>TractLOWI</th>\n",
              "      <th>TractWhite</th>\n",
              "      <th>TractBlack</th>\n",
              "      <th>TractAsian</th>\n",
              "      <th>TractNHOPI</th>\n",
              "      <th>TractAIAN</th>\n",
              "      <th>TractOMultir</th>\n",
              "      <th>TractHispanic</th>\n",
              "      <th>TractHUNV</th>\n",
              "    </tr>\n",
              "  </thead>\n",
              "  <tbody>\n",
              "    <tr>\n",
              "      <th>0</th>\n",
              "      <td>1001020100</td>\n",
              "      <td>1</td>\n",
              "      <td>1912</td>\n",
              "      <td>693</td>\n",
              "      <td>0</td>\n",
              "      <td>0</td>\n",
              "      <td>0</td>\n",
              "      <td>0</td>\n",
              "      <td>11.3</td>\n",
              "      <td>81250.0</td>\n",
              "      <td>1</td>\n",
              "      <td>1</td>\n",
              "      <td>1896</td>\n",
              "      <td>99.19</td>\n",
              "      <td>461</td>\n",
              "      <td>24.11</td>\n",
              "      <td>1611</td>\n",
              "      <td>84.26</td>\n",
              "      <td>214</td>\n",
              "      <td>11.17</td>\n",
              "      <td>14</td>\n",
              "      <td>0.72</td>\n",
              "      <td>0</td>\n",
              "      <td>0.00</td>\n",
              "      <td>14</td>\n",
              "      <td>0.73</td>\n",
              "      <td>44</td>\n",
              "      <td>2.31</td>\n",
              "      <td>43</td>\n",
              "      <td>2.27</td>\n",
              "      <td>5</td>\n",
              "      <td>0.79</td>\n",
              "      <td>92</td>\n",
              "      <td>13.22</td>\n",
              "      <td>455</td>\n",
              "      <td>1622</td>\n",
              "      <td>217</td>\n",
              "      <td>14</td>\n",
              "      <td>0</td>\n",
              "      <td>14</td>\n",
              "      <td>45</td>\n",
              "      <td>44</td>\n",
              "      <td>6</td>\n",
              "    </tr>\n",
              "    <tr>\n",
              "      <th>1</th>\n",
              "      <td>1001020200</td>\n",
              "      <td>1</td>\n",
              "      <td>2170</td>\n",
              "      <td>743</td>\n",
              "      <td>1</td>\n",
              "      <td>0</td>\n",
              "      <td>0</td>\n",
              "      <td>1</td>\n",
              "      <td>17.9</td>\n",
              "      <td>49000.0</td>\n",
              "      <td>1</td>\n",
              "      <td>1</td>\n",
              "      <td>1261</td>\n",
              "      <td>58.11</td>\n",
              "      <td>604</td>\n",
              "      <td>27.83</td>\n",
              "      <td>357</td>\n",
              "      <td>16.43</td>\n",
              "      <td>854</td>\n",
              "      <td>39.36</td>\n",
              "      <td>4</td>\n",
              "      <td>0.18</td>\n",
              "      <td>0</td>\n",
              "      <td>0.00</td>\n",
              "      <td>4</td>\n",
              "      <td>0.20</td>\n",
              "      <td>42</td>\n",
              "      <td>1.93</td>\n",
              "      <td>33</td>\n",
              "      <td>1.52</td>\n",
              "      <td>67</td>\n",
              "      <td>9.00</td>\n",
              "      <td>96</td>\n",
              "      <td>12.95</td>\n",
              "      <td>802</td>\n",
              "      <td>888</td>\n",
              "      <td>1217</td>\n",
              "      <td>5</td>\n",
              "      <td>0</td>\n",
              "      <td>5</td>\n",
              "      <td>55</td>\n",
              "      <td>75</td>\n",
              "      <td>89</td>\n",
              "    </tr>\n",
              "    <tr>\n",
              "      <th>2</th>\n",
              "      <td>1001020300</td>\n",
              "      <td>1</td>\n",
              "      <td>3373</td>\n",
              "      <td>1256</td>\n",
              "      <td>0</td>\n",
              "      <td>0</td>\n",
              "      <td>0</td>\n",
              "      <td>0</td>\n",
              "      <td>15.0</td>\n",
              "      <td>62609.0</td>\n",
              "      <td>1</td>\n",
              "      <td>1</td>\n",
              "      <td>1552</td>\n",
              "      <td>46.00</td>\n",
              "      <td>478</td>\n",
              "      <td>14.18</td>\n",
              "      <td>1242</td>\n",
              "      <td>36.81</td>\n",
              "      <td>255</td>\n",
              "      <td>7.56</td>\n",
              "      <td>8</td>\n",
              "      <td>0.24</td>\n",
              "      <td>0</td>\n",
              "      <td>0.00</td>\n",
              "      <td>2</td>\n",
              "      <td>0.06</td>\n",
              "      <td>45</td>\n",
              "      <td>1.33</td>\n",
              "      <td>36</td>\n",
              "      <td>1.08</td>\n",
              "      <td>0</td>\n",
              "      <td>0.00</td>\n",
              "      <td>74</td>\n",
              "      <td>5.87</td>\n",
              "      <td>1306</td>\n",
              "      <td>2576</td>\n",
              "      <td>647</td>\n",
              "      <td>17</td>\n",
              "      <td>5</td>\n",
              "      <td>11</td>\n",
              "      <td>117</td>\n",
              "      <td>87</td>\n",
              "      <td>99</td>\n",
              "    </tr>\n",
              "    <tr>\n",
              "      <th>3</th>\n",
              "      <td>1001020400</td>\n",
              "      <td>1</td>\n",
              "      <td>4386</td>\n",
              "      <td>1722</td>\n",
              "      <td>0</td>\n",
              "      <td>0</td>\n",
              "      <td>0</td>\n",
              "      <td>0</td>\n",
              "      <td>2.8</td>\n",
              "      <td>70607.0</td>\n",
              "      <td>1</td>\n",
              "      <td>1</td>\n",
              "      <td>1363</td>\n",
              "      <td>31.09</td>\n",
              "      <td>343</td>\n",
              "      <td>7.83</td>\n",
              "      <td>1233</td>\n",
              "      <td>28.12</td>\n",
              "      <td>81</td>\n",
              "      <td>1.85</td>\n",
              "      <td>7</td>\n",
              "      <td>0.16</td>\n",
              "      <td>2</td>\n",
              "      <td>0.05</td>\n",
              "      <td>4</td>\n",
              "      <td>0.08</td>\n",
              "      <td>37</td>\n",
              "      <td>0.84</td>\n",
              "      <td>30</td>\n",
              "      <td>0.68</td>\n",
              "      <td>8</td>\n",
              "      <td>0.46</td>\n",
              "      <td>30</td>\n",
              "      <td>1.76</td>\n",
              "      <td>922</td>\n",
              "      <td>4086</td>\n",
              "      <td>193</td>\n",
              "      <td>18</td>\n",
              "      <td>4</td>\n",
              "      <td>11</td>\n",
              "      <td>74</td>\n",
              "      <td>85</td>\n",
              "      <td>21</td>\n",
              "    </tr>\n",
              "    <tr>\n",
              "      <th>4</th>\n",
              "      <td>1001020500</td>\n",
              "      <td>1</td>\n",
              "      <td>10766</td>\n",
              "      <td>4082</td>\n",
              "      <td>0</td>\n",
              "      <td>0</td>\n",
              "      <td>1</td>\n",
              "      <td>0</td>\n",
              "      <td>15.2</td>\n",
              "      <td>96334.0</td>\n",
              "      <td>1</td>\n",
              "      <td>1</td>\n",
              "      <td>2643</td>\n",
              "      <td>24.55</td>\n",
              "      <td>586</td>\n",
              "      <td>5.45</td>\n",
              "      <td>2168</td>\n",
              "      <td>20.14</td>\n",
              "      <td>343</td>\n",
              "      <td>3.19</td>\n",
              "      <td>47</td>\n",
              "      <td>0.44</td>\n",
              "      <td>1</td>\n",
              "      <td>0.01</td>\n",
              "      <td>14</td>\n",
              "      <td>0.13</td>\n",
              "      <td>70</td>\n",
              "      <td>0.65</td>\n",
              "      <td>86</td>\n",
              "      <td>0.80</td>\n",
              "      <td>55</td>\n",
              "      <td>1.35</td>\n",
              "      <td>83</td>\n",
              "      <td>2.04</td>\n",
              "      <td>2242</td>\n",
              "      <td>8666</td>\n",
              "      <td>1437</td>\n",
              "      <td>296</td>\n",
              "      <td>9</td>\n",
              "      <td>48</td>\n",
              "      <td>310</td>\n",
              "      <td>355</td>\n",
              "      <td>230</td>\n",
              "    </tr>\n",
              "  </tbody>\n",
              "</table>\n",
              "</div>"
            ],
            "text/plain": [
              "   CensusTract  Urban  Pop2010  ...  TractOMultir  TractHispanic  TractHUNV\n",
              "0   1001020100      1     1912  ...            45             44          6\n",
              "1   1001020200      1     2170  ...            55             75         89\n",
              "2   1001020300      1     3373  ...           117             87         99\n",
              "3   1001020400      1     4386  ...            74             85         21\n",
              "4   1001020500      1    10766  ...           310            355        230\n",
              "\n",
              "[5 rows x 43 columns]"
            ]
          },
          "metadata": {
            "tags": []
          },
          "execution_count": 20
        }
      ]
    },
    {
      "cell_type": "code",
      "metadata": {
        "colab": {
          "base_uri": "https://localhost:8080/"
        },
        "id": "TU3TWCxL8Ugz",
        "outputId": "5f30df3c-b8c3-406b-a0b0-10f932936067"
      },
      "source": [
        "df.dtypes"
      ],
      "execution_count": 31,
      "outputs": [
        {
          "output_type": "execute_result",
          "data": {
            "text/plain": [
              "CensusTract               int64\n",
              "Urban                     int64\n",
              "Pop2010                   int64\n",
              "OHU2010                   int64\n",
              "LILATracts_1And10         int64\n",
              "LILATracts_Vehicle        int64\n",
              "HUNVFlag                  int64\n",
              "LowIncomeTracts           int64\n",
              "PovertyRate             float64\n",
              " MedianFamilyIncome     float64\n",
              "LA1and10                  int64\n",
              "LATracts1                 int64\n",
              "lapop1                    int64\n",
              "lapop1share             float64\n",
              "lalowi1                   int64\n",
              "lalowi1share            float64\n",
              "lawhite1                  int64\n",
              "lawhite1share           float64\n",
              "lablack1                  int64\n",
              "lablack1share           float64\n",
              "laasian1                  int64\n",
              "laasian1share           float64\n",
              "lanhopi1                  int64\n",
              "lanhopi1share           float64\n",
              "laaian1                   int64\n",
              "laaian1share            float64\n",
              "laomultir1                int64\n",
              "laomultir1share         float64\n",
              "lahisp1                   int64\n",
              "lahisp1share            float64\n",
              "lahunv1                   int64\n",
              "lahunv1share            float64\n",
              "lasnap1                   int64\n",
              "lasnap1share            float64\n",
              "TractLOWI                 int64\n",
              "TractWhite                int64\n",
              "TractBlack                int64\n",
              "TractAsian                int64\n",
              "TractNHOPI                int64\n",
              "TractAIAN                 int64\n",
              "TractOMultir              int64\n",
              "TractHispanic             int64\n",
              "TractHUNV                 int64\n",
              "dtype: object"
            ]
          },
          "metadata": {
            "tags": []
          },
          "execution_count": 31
        }
      ]
    },
    {
      "cell_type": "code",
      "metadata": {
        "colab": {
          "base_uri": "https://localhost:8080/"
        },
        "id": "qLJlxSN28vbi",
        "outputId": "f49d29fe-b968-4b3b-8b84-53875125feaa"
      },
      "source": [
        "df.dropna"
      ],
      "execution_count": 22,
      "outputs": [
        {
          "output_type": "execute_result",
          "data": {
            "text/plain": [
              "<bound method DataFrame.dropna of        CensusTract  Urban  Pop2010  ...  TractOMultir  TractHispanic  TractHUNV\n",
              "0       1001020100      1     1912  ...            45             44          6\n",
              "1       1001020200      1     2170  ...            55             75         89\n",
              "2       1001020300      1     3373  ...           117             87         99\n",
              "3       1001020400      1     4386  ...            74             85         21\n",
              "4       1001020500      1    10766  ...           310            355        230\n",
              "...            ...    ...      ...  ...           ...            ...        ...\n",
              "52041  56041975400      0     6852  ...           584            871        124\n",
              "52042  56043000200      0     3326  ...           172            309         61\n",
              "52043  56043000302      1     2542  ...           182            407         23\n",
              "52044  56045951100      0     3314  ...            62             91         47\n",
              "52045  56045951300      1     3894  ...           126            125         34\n",
              "\n",
              "[52046 rows x 43 columns]>"
            ]
          },
          "metadata": {
            "tags": []
          },
          "execution_count": 22
        }
      ]
    },
    {
      "cell_type": "code",
      "metadata": {
        "id": "hmnWeNk_C79l"
      },
      "source": [
        "target = df[\"LILATracts_1And10\"]"
      ],
      "execution_count": 23,
      "outputs": []
    },
    {
      "cell_type": "code",
      "metadata": {
        "colab": {
          "base_uri": "https://localhost:8080/"
        },
        "id": "nbi31JIYDOxu",
        "outputId": "02d5c191-3a2d-459a-807b-5a95ef170f8d"
      },
      "source": [
        "data = df.drop(\"LILATracts_1And10\", axis=1)\n",
        "feature_names = data.columns\n",
        "data.head"
      ],
      "execution_count": 25,
      "outputs": [
        {
          "output_type": "execute_result",
          "data": {
            "text/plain": [
              "<bound method NDFrame.head of        CensusTract  Urban  Pop2010  ...  TractOMultir  TractHispanic  TractHUNV\n",
              "0       1001020100      1     1912  ...            45             44          6\n",
              "1       1001020200      1     2170  ...            55             75         89\n",
              "2       1001020300      1     3373  ...           117             87         99\n",
              "3       1001020400      1     4386  ...            74             85         21\n",
              "4       1001020500      1    10766  ...           310            355        230\n",
              "...            ...    ...      ...  ...           ...            ...        ...\n",
              "52041  56041975400      0     6852  ...           584            871        124\n",
              "52042  56043000200      0     3326  ...           172            309         61\n",
              "52043  56043000302      1     2542  ...           182            407         23\n",
              "52044  56045951100      0     3314  ...            62             91         47\n",
              "52045  56045951300      1     3894  ...           126            125         34\n",
              "\n",
              "[52046 rows x 42 columns]>"
            ]
          },
          "metadata": {
            "tags": []
          },
          "execution_count": 25
        }
      ]
    },
    {
      "cell_type": "code",
      "metadata": {
        "id": "o98deGcLDfAL"
      },
      "source": [
        "X_train, X_test, y_train, y_test = train_test_split(data, target, random_state=42)"
      ],
      "execution_count": 26,
      "outputs": []
    },
    {
      "cell_type": "code",
      "metadata": {
        "colab": {
          "base_uri": "https://localhost:8080/"
        },
        "id": "RzaeX1BIDxYn",
        "outputId": "eb6ec593-375a-41c8-f06f-acda379237c0"
      },
      "source": [
        "clf = tree.DecisionTreeClassifier()\n",
        "clf = clf.fit(X_train, y_train)\n",
        "clf.score(X_test, y_test)"
      ],
      "execution_count": 27,
      "outputs": [
        {
          "output_type": "execute_result",
          "data": {
            "text/plain": [
              "1.0"
            ]
          },
          "metadata": {
            "tags": []
          },
          "execution_count": 27
        }
      ]
    },
    {
      "cell_type": "code",
      "metadata": {
        "colab": {
          "base_uri": "https://localhost:8080/"
        },
        "id": "v4UJYaUaJNBz",
        "outputId": "69d1f666-cfc1-479e-dab0-0cfcac950b58"
      },
      "source": [
        "rf = RandomForestClassifier(n_estimators=200)\n",
        "rf = rf.fit(X_train, y_train)\n",
        "rf.score(X_test, y_test)"
      ],
      "execution_count": 29,
      "outputs": [
        {
          "output_type": "execute_result",
          "data": {
            "text/plain": [
              "1.0"
            ]
          },
          "metadata": {
            "tags": []
          },
          "execution_count": 29
        }
      ]
    },
    {
      "cell_type": "code",
      "metadata": {
        "colab": {
          "base_uri": "https://localhost:8080/"
        },
        "id": "NLFuQXHousaP",
        "outputId": "09314795-7799-45b1-c67a-1e58163eebb9"
      },
      "source": [
        "sorted(zip(rf.feature_importances_, feature_names), reverse=True)"
      ],
      "execution_count": 30,
      "outputs": [
        {
          "output_type": "execute_result",
          "data": {
            "text/plain": [
              "[(0.2228674024758579, 'LowIncomeTracts'),\n",
              " (0.1786290179770779, 'LA1and10'),\n",
              " (0.10029988285135345, ' MedianFamilyIncome '),\n",
              " (0.09221149772514041, 'LATracts1'),\n",
              " (0.07390309154437132, 'PovertyRate'),\n",
              " (0.06372219608795471, 'LILATracts_Vehicle'),\n",
              " (0.02805638260649027, 'lapop1'),\n",
              " (0.02676060835326468, 'Urban'),\n",
              " (0.021185187382702367, 'lalowi1share'),\n",
              " (0.018301828653525695, 'lasnap1share'),\n",
              " (0.017883005316040992, 'lasnap1'),\n",
              " (0.017391437498500188, 'lapop1share'),\n",
              " (0.014145023918978285, 'lalowi1'),\n",
              " (0.01335647192219853, 'lawhite1'),\n",
              " (0.013342281235089739, 'TractLOWI'),\n",
              " (0.010231953688465474, 'lahunv1share'),\n",
              " (0.009441914385298499, 'lawhite1share'),\n",
              " (0.006364800279687942, 'TractWhite'),\n",
              " (0.006023675643463112, 'lablack1share'),\n",
              " (0.004731210588970225, 'lahunv1'),\n",
              " (0.004649685752304939, 'HUNVFlag'),\n",
              " (0.004170690055996542, 'TractHUNV'),\n",
              " (0.004090971822110776, 'laomultir1'),\n",
              " (0.003966478600312554, 'laomultir1share'),\n",
              " (0.0037427587234311567, 'TractAsian'),\n",
              " (0.0036342610881746717, 'laasian1'),\n",
              " (0.003467190353628314, 'OHU2010'),\n",
              " (0.0032563243194422132, 'TractBlack'),\n",
              " (0.0031000695527376066, 'lablack1'),\n",
              " (0.0029295833237896417, 'laasian1share'),\n",
              " (0.002677507320410247, 'Pop2010'),\n",
              " (0.0026591956849514394, 'CensusTract'),\n",
              " (0.0026386617281733845, 'laaian1share'),\n",
              " (0.0026074042395995145, 'TractOMultir'),\n",
              " (0.002526220484181627, 'lahisp1share'),\n",
              " (0.0023805553577460536, 'lahisp1'),\n",
              " (0.0022895523405567363, 'laaian1'),\n",
              " (0.0021026190560026266, 'TractHispanic'),\n",
              " (0.0018323425634383288, 'TractAIAN'),\n",
              " (0.0008945430872460378, 'lanhopi1share'),\n",
              " (0.0008547965419605189, 'TractNHOPI'),\n",
              " (0.0006797178693734737, 'lanhopi1')]"
            ]
          },
          "metadata": {
            "tags": []
          },
          "execution_count": 30
        }
      ]
    },
    {
      "cell_type": "code",
      "metadata": {
        "id": "tEZxhdymu7iy"
      },
      "source": [
        ""
      ],
      "execution_count": null,
      "outputs": []
    }
  ]
}