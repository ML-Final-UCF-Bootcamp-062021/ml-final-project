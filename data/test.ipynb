{
  "nbformat": 4,
  "nbformat_minor": 0,
  "metadata": {
    "orig_nbformat": 2,
    "colab": {
      "name": "test.ipynb",
      "provenance": [],
      "collapsed_sections": [],
      "include_colab_link": true
    },
    "language_info": {
      "name": "python"
    },
    "kernelspec": {
      "name": "python3",
      "display_name": "Python 3"
    }
  },
  "cells": [
    {
      "cell_type": "markdown",
      "metadata": {
        "id": "view-in-github",
        "colab_type": "text"
      },
      "source": [
        "<a href=\"https://colab.research.google.com/github/ML-Final-UCF-Bootcamp-062021/ml-final-project/blob/howard/test.ipynb\" target=\"_parent\"><img src=\"https://colab.research.google.com/assets/colab-badge.svg\" alt=\"Open In Colab\"/></a>"
      ]
    },
    {
      "cell_type": "markdown",
      "metadata": {
        "id": "W0B1_i9_L-B-"
      },
      "source": [
        "# **Import dependencies and mount google drive to access data**\n",
        "\n",
        "---\n",
        "\n"
      ]
    },
    {
      "cell_type": "code",
      "metadata": {
        "colab": {
          "base_uri": "https://localhost:8080/"
        },
        "id": "nPBY0p6v32SY",
        "outputId": "6cabb2b0-608c-4b9f-9e8e-b706cf8a0c84"
      },
      "source": [
        "from google.colab import drive \n",
        "drive.mount('/content/gdrive')"
      ],
      "execution_count": 1,
      "outputs": [
        {
          "output_type": "stream",
          "text": [
            "Mounted at /content/gdrive\n"
          ],
          "name": "stdout"
        }
      ]
    },
    {
      "cell_type": "code",
      "metadata": {
        "id": "9PhsWuLM32Se"
      },
      "source": [
        "%matplotlib inline\n",
        "import matplotlib.pyplot as plt\n",
        "import numpy as np\n",
        "import sklearn\n",
        "import sklearn.datasets\n",
        "from sklearn.ensemble import RandomForestClassifier\n",
        "from sklearn.preprocessing import StandardScaler\n",
        "from sklearn.model_selection import train_test_split\n",
        "from sklearn import tree\n",
        "import pandas as pd"
      ],
      "execution_count": 2,
      "outputs": []
    },
    {
      "cell_type": "markdown",
      "metadata": {
        "id": "c1vweaXvNByH"
      },
      "source": [
        "# **Read in csv file from Gdrive**\n",
        "# **Analyzed the data**\n",
        "data was preprocessed before importing due to size of file. Original file had 90+ columns and many null/NaN values.  Team discussed the importance of the extra columns for the purpose of this code and decided it didn't have an impact on our objective.\n"
      ]
    },
    {
      "cell_type": "code",
      "metadata": {
        "id": "TpqW9Bw979Vm",
        "colab": {
          "base_uri": "https://localhost:8080/",
          "height": 224
        },
        "outputId": "38156649-dc93-4088-cad5-6ef3acb59560"
      },
      "source": [
        "# read the csv data into dataframe\n",
        "df = pd.read_csv(\"/content/gdrive/MyDrive/usda_data.csv\", index_col=None)\n",
        "df.head()"
      ],
      "execution_count": 3,
      "outputs": [
        {
          "output_type": "execute_result",
          "data": {
            "text/html": [
              "<div>\n",
              "<style scoped>\n",
              "    .dataframe tbody tr th:only-of-type {\n",
              "        vertical-align: middle;\n",
              "    }\n",
              "\n",
              "    .dataframe tbody tr th {\n",
              "        vertical-align: top;\n",
              "    }\n",
              "\n",
              "    .dataframe thead th {\n",
              "        text-align: right;\n",
              "    }\n",
              "</style>\n",
              "<table border=\"1\" class=\"dataframe\">\n",
              "  <thead>\n",
              "    <tr style=\"text-align: right;\">\n",
              "      <th></th>\n",
              "      <th>CensusTract</th>\n",
              "      <th>Urban</th>\n",
              "      <th>Pop2010</th>\n",
              "      <th>OHU2010</th>\n",
              "      <th>LILATracts_1And10</th>\n",
              "      <th>LILATracts_Vehicle</th>\n",
              "      <th>HUNVFlag</th>\n",
              "      <th>LowIncomeTracts</th>\n",
              "      <th>PovertyRate</th>\n",
              "      <th>MedianFamilyIncome</th>\n",
              "      <th>LA1and10</th>\n",
              "      <th>LATracts1</th>\n",
              "      <th>lapop1</th>\n",
              "      <th>lapop1share</th>\n",
              "      <th>lalowi1</th>\n",
              "      <th>lalowi1share</th>\n",
              "      <th>lawhite1</th>\n",
              "      <th>lawhite1share</th>\n",
              "      <th>lablack1</th>\n",
              "      <th>lablack1share</th>\n",
              "      <th>laasian1</th>\n",
              "      <th>laasian1share</th>\n",
              "      <th>lanhopi1</th>\n",
              "      <th>lanhopi1share</th>\n",
              "      <th>laaian1</th>\n",
              "      <th>laaian1share</th>\n",
              "      <th>laomultir1</th>\n",
              "      <th>laomultir1share</th>\n",
              "      <th>lahisp1</th>\n",
              "      <th>lahisp1share</th>\n",
              "      <th>lahunv1</th>\n",
              "      <th>lahunv1share</th>\n",
              "      <th>lasnap1</th>\n",
              "      <th>lasnap1share</th>\n",
              "      <th>TractLOWI</th>\n",
              "      <th>TractWhite</th>\n",
              "      <th>TractBlack</th>\n",
              "      <th>TractAsian</th>\n",
              "      <th>TractNHOPI</th>\n",
              "      <th>TractAIAN</th>\n",
              "      <th>TractOMultir</th>\n",
              "      <th>TractHispanic</th>\n",
              "      <th>TractHUNV</th>\n",
              "    </tr>\n",
              "  </thead>\n",
              "  <tbody>\n",
              "    <tr>\n",
              "      <th>0</th>\n",
              "      <td>1001020100</td>\n",
              "      <td>1</td>\n",
              "      <td>1912</td>\n",
              "      <td>693</td>\n",
              "      <td>0</td>\n",
              "      <td>0</td>\n",
              "      <td>0</td>\n",
              "      <td>0</td>\n",
              "      <td>11.3</td>\n",
              "      <td>81250.0</td>\n",
              "      <td>1</td>\n",
              "      <td>1</td>\n",
              "      <td>1896</td>\n",
              "      <td>99.19</td>\n",
              "      <td>461</td>\n",
              "      <td>24.11</td>\n",
              "      <td>1611</td>\n",
              "      <td>84.26</td>\n",
              "      <td>214</td>\n",
              "      <td>11.17</td>\n",
              "      <td>14</td>\n",
              "      <td>0.72</td>\n",
              "      <td>0</td>\n",
              "      <td>0.00</td>\n",
              "      <td>14</td>\n",
              "      <td>0.73</td>\n",
              "      <td>44</td>\n",
              "      <td>2.31</td>\n",
              "      <td>43</td>\n",
              "      <td>2.27</td>\n",
              "      <td>5</td>\n",
              "      <td>0.79</td>\n",
              "      <td>92</td>\n",
              "      <td>13.22</td>\n",
              "      <td>455</td>\n",
              "      <td>1622</td>\n",
              "      <td>217</td>\n",
              "      <td>14</td>\n",
              "      <td>0</td>\n",
              "      <td>14</td>\n",
              "      <td>45</td>\n",
              "      <td>44</td>\n",
              "      <td>6</td>\n",
              "    </tr>\n",
              "    <tr>\n",
              "      <th>1</th>\n",
              "      <td>1001020200</td>\n",
              "      <td>1</td>\n",
              "      <td>2170</td>\n",
              "      <td>743</td>\n",
              "      <td>1</td>\n",
              "      <td>0</td>\n",
              "      <td>0</td>\n",
              "      <td>1</td>\n",
              "      <td>17.9</td>\n",
              "      <td>49000.0</td>\n",
              "      <td>1</td>\n",
              "      <td>1</td>\n",
              "      <td>1261</td>\n",
              "      <td>58.11</td>\n",
              "      <td>604</td>\n",
              "      <td>27.83</td>\n",
              "      <td>357</td>\n",
              "      <td>16.43</td>\n",
              "      <td>854</td>\n",
              "      <td>39.36</td>\n",
              "      <td>4</td>\n",
              "      <td>0.18</td>\n",
              "      <td>0</td>\n",
              "      <td>0.00</td>\n",
              "      <td>4</td>\n",
              "      <td>0.20</td>\n",
              "      <td>42</td>\n",
              "      <td>1.93</td>\n",
              "      <td>33</td>\n",
              "      <td>1.52</td>\n",
              "      <td>67</td>\n",
              "      <td>9.00</td>\n",
              "      <td>96</td>\n",
              "      <td>12.95</td>\n",
              "      <td>802</td>\n",
              "      <td>888</td>\n",
              "      <td>1217</td>\n",
              "      <td>5</td>\n",
              "      <td>0</td>\n",
              "      <td>5</td>\n",
              "      <td>55</td>\n",
              "      <td>75</td>\n",
              "      <td>89</td>\n",
              "    </tr>\n",
              "    <tr>\n",
              "      <th>2</th>\n",
              "      <td>1001020300</td>\n",
              "      <td>1</td>\n",
              "      <td>3373</td>\n",
              "      <td>1256</td>\n",
              "      <td>0</td>\n",
              "      <td>0</td>\n",
              "      <td>0</td>\n",
              "      <td>0</td>\n",
              "      <td>15.0</td>\n",
              "      <td>62609.0</td>\n",
              "      <td>1</td>\n",
              "      <td>1</td>\n",
              "      <td>1552</td>\n",
              "      <td>46.00</td>\n",
              "      <td>478</td>\n",
              "      <td>14.18</td>\n",
              "      <td>1242</td>\n",
              "      <td>36.81</td>\n",
              "      <td>255</td>\n",
              "      <td>7.56</td>\n",
              "      <td>8</td>\n",
              "      <td>0.24</td>\n",
              "      <td>0</td>\n",
              "      <td>0.00</td>\n",
              "      <td>2</td>\n",
              "      <td>0.06</td>\n",
              "      <td>45</td>\n",
              "      <td>1.33</td>\n",
              "      <td>36</td>\n",
              "      <td>1.08</td>\n",
              "      <td>0</td>\n",
              "      <td>0.00</td>\n",
              "      <td>74</td>\n",
              "      <td>5.87</td>\n",
              "      <td>1306</td>\n",
              "      <td>2576</td>\n",
              "      <td>647</td>\n",
              "      <td>17</td>\n",
              "      <td>5</td>\n",
              "      <td>11</td>\n",
              "      <td>117</td>\n",
              "      <td>87</td>\n",
              "      <td>99</td>\n",
              "    </tr>\n",
              "    <tr>\n",
              "      <th>3</th>\n",
              "      <td>1001020400</td>\n",
              "      <td>1</td>\n",
              "      <td>4386</td>\n",
              "      <td>1722</td>\n",
              "      <td>0</td>\n",
              "      <td>0</td>\n",
              "      <td>0</td>\n",
              "      <td>0</td>\n",
              "      <td>2.8</td>\n",
              "      <td>70607.0</td>\n",
              "      <td>1</td>\n",
              "      <td>1</td>\n",
              "      <td>1363</td>\n",
              "      <td>31.09</td>\n",
              "      <td>343</td>\n",
              "      <td>7.83</td>\n",
              "      <td>1233</td>\n",
              "      <td>28.12</td>\n",
              "      <td>81</td>\n",
              "      <td>1.85</td>\n",
              "      <td>7</td>\n",
              "      <td>0.16</td>\n",
              "      <td>2</td>\n",
              "      <td>0.05</td>\n",
              "      <td>4</td>\n",
              "      <td>0.08</td>\n",
              "      <td>37</td>\n",
              "      <td>0.84</td>\n",
              "      <td>30</td>\n",
              "      <td>0.68</td>\n",
              "      <td>8</td>\n",
              "      <td>0.46</td>\n",
              "      <td>30</td>\n",
              "      <td>1.76</td>\n",
              "      <td>922</td>\n",
              "      <td>4086</td>\n",
              "      <td>193</td>\n",
              "      <td>18</td>\n",
              "      <td>4</td>\n",
              "      <td>11</td>\n",
              "      <td>74</td>\n",
              "      <td>85</td>\n",
              "      <td>21</td>\n",
              "    </tr>\n",
              "    <tr>\n",
              "      <th>4</th>\n",
              "      <td>1001020500</td>\n",
              "      <td>1</td>\n",
              "      <td>10766</td>\n",
              "      <td>4082</td>\n",
              "      <td>0</td>\n",
              "      <td>0</td>\n",
              "      <td>1</td>\n",
              "      <td>0</td>\n",
              "      <td>15.2</td>\n",
              "      <td>96334.0</td>\n",
              "      <td>1</td>\n",
              "      <td>1</td>\n",
              "      <td>2643</td>\n",
              "      <td>24.55</td>\n",
              "      <td>586</td>\n",
              "      <td>5.45</td>\n",
              "      <td>2168</td>\n",
              "      <td>20.14</td>\n",
              "      <td>343</td>\n",
              "      <td>3.19</td>\n",
              "      <td>47</td>\n",
              "      <td>0.44</td>\n",
              "      <td>1</td>\n",
              "      <td>0.01</td>\n",
              "      <td>14</td>\n",
              "      <td>0.13</td>\n",
              "      <td>70</td>\n",
              "      <td>0.65</td>\n",
              "      <td>86</td>\n",
              "      <td>0.80</td>\n",
              "      <td>55</td>\n",
              "      <td>1.35</td>\n",
              "      <td>83</td>\n",
              "      <td>2.04</td>\n",
              "      <td>2242</td>\n",
              "      <td>8666</td>\n",
              "      <td>1437</td>\n",
              "      <td>296</td>\n",
              "      <td>9</td>\n",
              "      <td>48</td>\n",
              "      <td>310</td>\n",
              "      <td>355</td>\n",
              "      <td>230</td>\n",
              "    </tr>\n",
              "  </tbody>\n",
              "</table>\n",
              "</div>"
            ],
            "text/plain": [
              "   CensusTract  Urban  Pop2010  ...  TractOMultir  TractHispanic  TractHUNV\n",
              "0   1001020100      1     1912  ...            45             44          6\n",
              "1   1001020200      1     2170  ...            55             75         89\n",
              "2   1001020300      1     3373  ...           117             87         99\n",
              "3   1001020400      1     4386  ...            74             85         21\n",
              "4   1001020500      1    10766  ...           310            355        230\n",
              "\n",
              "[5 rows x 43 columns]"
            ]
          },
          "metadata": {
            "tags": []
          },
          "execution_count": 3
        }
      ]
    },
    {
      "cell_type": "code",
      "metadata": {
        "id": "TU3TWCxL8Ugz"
      },
      "source": [
        "df.dtypes"
      ],
      "execution_count": null,
      "outputs": []
    },
    {
      "cell_type": "code",
      "metadata": {
        "colab": {
          "base_uri": "https://localhost:8080/"
        },
        "id": "qLJlxSN28vbi",
        "outputId": "6768ae00-0ad8-4d3d-9d63-03775cec11b0"
      },
      "source": [
        "df.dropna"
      ],
      "execution_count": 5,
      "outputs": [
        {
          "output_type": "execute_result",
          "data": {
            "text/plain": [
              "<bound method DataFrame.dropna of        CensusTract  Urban  Pop2010  ...  TractOMultir  TractHispanic  TractHUNV\n",
              "0       1001020100      1     1912  ...            45             44          6\n",
              "1       1001020200      1     2170  ...            55             75         89\n",
              "2       1001020300      1     3373  ...           117             87         99\n",
              "3       1001020400      1     4386  ...            74             85         21\n",
              "4       1001020500      1    10766  ...           310            355        230\n",
              "...            ...    ...      ...  ...           ...            ...        ...\n",
              "52041  56041975400      0     6852  ...           584            871        124\n",
              "52042  56043000200      0     3326  ...           172            309         61\n",
              "52043  56043000302      1     2542  ...           182            407         23\n",
              "52044  56045951100      0     3314  ...            62             91         47\n",
              "52045  56045951300      1     3894  ...           126            125         34\n",
              "\n",
              "[52046 rows x 43 columns]>"
            ]
          },
          "metadata": {
            "tags": []
          },
          "execution_count": 5
        }
      ]
    },
    {
      "cell_type": "markdown",
      "metadata": {
        "id": "SYZ_sPjuQKmN"
      },
      "source": [
        "# **Start building our model**"
      ]
    },
    {
      "cell_type": "code",
      "metadata": {
        "id": "hmnWeNk_C79l"
      },
      "source": [
        "# define our target\n",
        "target = df[\"LILATracts_1And10\"]"
      ],
      "execution_count": 6,
      "outputs": []
    },
    {
      "cell_type": "code",
      "metadata": {
        "colab": {
          "base_uri": "https://localhost:8080/"
        },
        "id": "nbi31JIYDOxu",
        "outputId": "f8cd4420-1c25-4612-cbe7-a290d85adcd5"
      },
      "source": [
        "# create data set without target data\n",
        "data = df.drop(\"LILATracts_1And10\", axis=1)\n",
        "feature_names = data.columns\n",
        "data.head"
      ],
      "execution_count": 7,
      "outputs": [
        {
          "output_type": "execute_result",
          "data": {
            "text/plain": [
              "<bound method NDFrame.head of        CensusTract  Urban  Pop2010  ...  TractOMultir  TractHispanic  TractHUNV\n",
              "0       1001020100      1     1912  ...            45             44          6\n",
              "1       1001020200      1     2170  ...            55             75         89\n",
              "2       1001020300      1     3373  ...           117             87         99\n",
              "3       1001020400      1     4386  ...            74             85         21\n",
              "4       1001020500      1    10766  ...           310            355        230\n",
              "...            ...    ...      ...  ...           ...            ...        ...\n",
              "52041  56041975400      0     6852  ...           584            871        124\n",
              "52042  56043000200      0     3326  ...           172            309         61\n",
              "52043  56043000302      1     2542  ...           182            407         23\n",
              "52044  56045951100      0     3314  ...            62             91         47\n",
              "52045  56045951300      1     3894  ...           126            125         34\n",
              "\n",
              "[52046 rows x 42 columns]>"
            ]
          },
          "metadata": {
            "tags": []
          },
          "execution_count": 7
        }
      ]
    },
    {
      "cell_type": "code",
      "metadata": {
        "id": "o98deGcLDfAL"
      },
      "source": [
        "# split data for training and testing\n",
        "X_train, X_test, y_train, y_test = train_test_split(data, target, random_state=42)"
      ],
      "execution_count": 8,
      "outputs": []
    },
    {
      "cell_type": "code",
      "metadata": {
        "colab": {
          "base_uri": "https://localhost:8080/"
        },
        "id": "RzaeX1BIDxYn",
        "outputId": "bf18428f-29d5-4105-ab68-d0b3967e4c58"
      },
      "source": [
        "# create decision tree model\n",
        "clf = tree.DecisionTreeClassifier()\n",
        "clf = clf.fit(X_train, y_train)\n",
        "clf.score(X_test, y_test)"
      ],
      "execution_count": 9,
      "outputs": [
        {
          "output_type": "execute_result",
          "data": {
            "text/plain": [
              "1.0"
            ]
          },
          "metadata": {
            "tags": []
          },
          "execution_count": 9
        }
      ]
    },
    {
      "cell_type": "code",
      "metadata": {
        "colab": {
          "base_uri": "https://localhost:8080/"
        },
        "id": "v4UJYaUaJNBz",
        "outputId": "460fbad5-d684-4ce0-eff7-bda4e75484cf"
      },
      "source": [
        "# create random forest model\n",
        "rf = RandomForestClassifier(n_estimators=200)\n",
        "rf = rf.fit(X_train, y_train)\n",
        "rf.score(X_test, y_test)"
      ],
      "execution_count": 10,
      "outputs": [
        {
          "output_type": "execute_result",
          "data": {
            "text/plain": [
              "1.0"
            ]
          },
          "metadata": {
            "tags": []
          },
          "execution_count": 10
        }
      ]
    },
    {
      "cell_type": "code",
      "metadata": {
        "colab": {
          "base_uri": "https://localhost:8080/"
        },
        "id": "NLFuQXHousaP",
        "outputId": "caefa602-122a-4669-ba96-5dbc4d44fb52"
      },
      "source": [
        "sorted(zip(rf.feature_importances_, feature_names), reverse=True)"
      ],
      "execution_count": 11,
      "outputs": [
        {
          "output_type": "execute_result",
          "data": {
            "text/plain": [
              "[(0.25534151282997825, 'LowIncomeTracts'),\n",
              " (0.19792308549449666, 'LA1and10'),\n",
              " (0.09094762130186759, 'LATracts1'),\n",
              " (0.07647197769262416, ' MedianFamilyIncome '),\n",
              " (0.06364255791729209, 'LILATracts_Vehicle'),\n",
              " (0.0532931807635109, 'PovertyRate'),\n",
              " (0.02785598485668759, 'Urban'),\n",
              " (0.025685321965726333, 'lapop1'),\n",
              " (0.02234262005667865, 'lapop1share'),\n",
              " (0.020746775837209405, 'lasnap1share'),\n",
              " (0.017607265871916772, 'lalowi1share'),\n",
              " (0.015622017598014149, 'lalowi1'),\n",
              " (0.013786379512935744, 'lasnap1'),\n",
              " (0.012717097204514308, 'TractLOWI'),\n",
              " (0.009588551346929354, 'lawhite1'),\n",
              " (0.009089042013073978, 'lahunv1share'),\n",
              " (0.00828036020533839, 'lawhite1share'),\n",
              " (0.005491862412354092, 'TractWhite'),\n",
              " (0.005175941679234463, 'laomultir1share'),\n",
              " (0.004856101122367563, 'TractAsian'),\n",
              " (0.004835272627062658, 'TractHUNV'),\n",
              " (0.004788792838529309, 'HUNVFlag'),\n",
              " (0.004572356712942067, 'lahunv1'),\n",
              " (0.0041891607213291, 'lablack1'),\n",
              " (0.004159569684608814, 'laomultir1'),\n",
              " (0.004074069632019485, 'lablack1share'),\n",
              " (0.0035134596131654234, 'TractBlack'),\n",
              " (0.002983622156266527, 'laasian1'),\n",
              " (0.002961207597862994, 'lahisp1share'),\n",
              " (0.0029078737438575043, 'TractOMultir'),\n",
              " (0.002898911962783424, 'Pop2010'),\n",
              " (0.0028703106911249386, 'OHU2010'),\n",
              " (0.0027533321114914843, 'laaian1share'),\n",
              " (0.0026824034556701317, 'laasian1share'),\n",
              " (0.0025805929482396648, 'CensusTract'),\n",
              " (0.0023744537906545994, 'laaian1'),\n",
              " (0.002279696002161205, 'lahisp1'),\n",
              " (0.002246429048387146, 'TractHispanic'),\n",
              " (0.0017525876991007939, 'TractAIAN'),\n",
              " (0.0008775397484948042, 'lanhopi1share'),\n",
              " (0.0006674874744416668, 'TractNHOPI'),\n",
              " (0.0005656120570558503, 'lanhopi1')]"
            ]
          },
          "metadata": {
            "tags": []
          },
          "execution_count": 11
        }
      ]
    },
    {
      "cell_type": "code",
      "metadata": {
        "id": "tEZxhdymu7iy"
      },
      "source": [
        ""
      ],
      "execution_count": 11,
      "outputs": []
    }
  ]
}